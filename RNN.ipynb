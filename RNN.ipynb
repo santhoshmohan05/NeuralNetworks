{
  "nbformat": 4,
  "nbformat_minor": 0,
  "metadata": {
    "colab": {
      "name": "RNN.ipynb",
      "version": "0.3.2",
      "provenance": [],
      "collapsed_sections": [],
      "include_colab_link": true
    },
    "kernelspec": {
      "name": "python3",
      "display_name": "Python 3"
    },
    "accelerator": "GPU"
  },
  "cells": [
    {
      "cell_type": "markdown",
      "metadata": {
        "id": "view-in-github",
        "colab_type": "text"
      },
      "source": [
        "<a href=\"https://colab.research.google.com/github/santhoshmohan05/NeuralNetworks/blob/master/RNN.ipynb\" target=\"_parent\"><img src=\"https://colab.research.google.com/assets/colab-badge.svg\" alt=\"Open In Colab\"/></a>"
      ]
    },
    {
      "cell_type": "markdown",
      "metadata": {
        "id": "4_2mFcyPw3-Y",
        "colab_type": "text"
      },
      "source": [
        "<h4><b>RNN with LSTM <b></h4>"
      ]
    },
    {
      "cell_type": "code",
      "metadata": {
        "id": "YleybLrcw--C",
        "colab_type": "code",
        "colab": {}
      },
      "source": [
        "from google.colab import drive\n",
        "from os import listdir\n",
        "import numpy as np\n",
        "import pandas as pd\n",
        "import matplotlib.pyplot as plt\n",
        "from sklearn.preprocessing import MinMaxScaler\n",
        "\n",
        "from keras.models import Sequential\n",
        "from keras.layers import Dropout,LSTM,Dense"
      ],
      "execution_count": 0,
      "outputs": []
    },
    {
      "cell_type": "code",
      "metadata": {
        "id": "1ay9JXeoxDLT",
        "colab_type": "code",
        "colab": {}
      },
      "source": [
        "drive.mount('/content/gdrive/')"
      ],
      "execution_count": 0,
      "outputs": []
    },
    {
      "cell_type": "code",
      "metadata": {
        "id": "rWLTgTyLxHtm",
        "colab_type": "code",
        "colab": {}
      },
      "source": [
        "train_data_file = '/content/gdrive/My Drive/CNN_Test_Datat/Google_Stock_Price_Train.csv'\n",
        "test_data_file = '/content/gdrive/My Drive/CNN_Test_Datat/Google_Stock_Price_Test.csv'\n",
        "train_data = pd.read_csv(train_data_file)\n",
        "test_data = pd.read_csv(test_data_file)\n",
        "train_data.head()"
      ],
      "execution_count": 0,
      "outputs": []
    },
    {
      "cell_type": "markdown",
      "metadata": {
        "id": "NEZfxGBL1x_j",
        "colab_type": "text"
      },
      "source": [
        "<h4><b>Data Preprocessing </b></h4>"
      ]
    },
    {
      "cell_type": "code",
      "metadata": {
        "id": "Ou1QRGuR15WH",
        "colab_type": "code",
        "colab": {}
      },
      "source": [
        "##processing only the open value in order\n",
        "training_set = train_data.iloc[:,1:2].values\n",
        "sc = MinMaxScaler(feature_range=(0,1))\n",
        "scaled_train_data = sc.fit_transform(training_set)\n",
        "\n",
        "stock_interval = 60\n",
        "### create X and Y for each step of the RNN\n",
        "X_train = []\n",
        "y_train = []\n",
        "for i in range(stock_interval,scaled_train_data.shape[0]):\n",
        "    X_train.append(scaled_train_data[i-stock_interval:i,0])\n",
        "    y_train.append(scaled_train_data[i,0])\n",
        "X_train = np.array(X_train)\n",
        "y_train = np.array(y_train)\n",
        "\n",
        "### reshaping an numpy array \n",
        "X_train = np.reshape(X_train,(X_train.shape[0],X_train.shape[1],1))"
      ],
      "execution_count": 0,
      "outputs": []
    },
    {
      "cell_type": "markdown",
      "metadata": {
        "id": "-_lCaEEX_hpN",
        "colab_type": "text"
      },
      "source": [
        "<h4><b>RNN Regressor Compilation </b></h4>\n"
      ]
    },
    {
      "cell_type": "code",
      "metadata": {
        "id": "P2Rx6Loj_ozD",
        "colab_type": "code",
        "colab": {}
      },
      "source": [
        "def get_RNN_regressor(memory_units,dropout_precentage,X):\n",
        "    regressor = Sequential()\n",
        "    ### 4 LSTM Layers with 50 neurons every laer and 20% dropout\n",
        "    regressor.add(LSTM(units=memory_units,return_sequences=True,input_shape=(X.shape[1],X.shape[2])))\n",
        "    regressor.add(Dropout(dropout_precentage))\n",
        "    regressor.add(LSTM(units=memory_units,return_sequences=True))\n",
        "    regressor.add(Dropout(dropout_precentage))\n",
        "    regressor.add(LSTM(units=memory_units,return_sequences=True))\n",
        "    regressor.add(Dropout(dropout_precentage))\n",
        "    regressor.add(LSTM(units=memory_units))\n",
        "    regressor.add(Dropout(dropout_precentage))\n",
        "    ### output layer - fully connected Layer with one output and linear activation.\n",
        "    regressor.add(Dense(units=1))\n",
        "    return regressor\n",
        "\n",
        "regressor = get_RNN_regressor(50,0.2,X_train)\n",
        "### adam or rmsprop optimizer with MSE loss function\n",
        "regressor.compile(optimizer='adam', loss='mean_squared_error')"
      ],
      "execution_count": 0,
      "outputs": []
    },
    {
      "cell_type": "markdown",
      "metadata": {
        "id": "uCJ6sFT-GFxL",
        "colab_type": "text"
      },
      "source": [
        "<h4><b>Fit the RNN</b></h4>\n"
      ]
    },
    {
      "cell_type": "code",
      "metadata": {
        "id": "kI85WnXCDf3v",
        "colab_type": "code",
        "colab": {}
      },
      "source": [
        "regressor.fit(X_train,y_train,batch_size=8,epochs=100)"
      ],
      "execution_count": 0,
      "outputs": []
    },
    {
      "cell_type": "markdown",
      "metadata": {
        "id": "v7FLk-c4USTR",
        "colab_type": "text"
      },
      "source": [
        "<h4><b>Prediction</b></h4>"
      ]
    },
    {
      "cell_type": "code",
      "metadata": {
        "id": "XWHwtGELUX4t",
        "colab_type": "code",
        "colab": {}
      },
      "source": [
        "real_stock_price = test_data.iloc[:, 1:2].values\n",
        "\n",
        "# Getting the predicted stock price of 2017\n",
        "dataset_total = pd.concat((train_data['Open'], test_data['Open']), axis = 0)\n",
        "inputs = dataset_total[len(dataset_total) - len(test_data) - 60:].values\n",
        "inputs = inputs.reshape(-1,1)\n",
        "inputs = sc.transform(inputs)\n",
        "X_test = []\n",
        "for i in range(60, 80):\n",
        "    X_test.append(inputs[i-60:i, 0])\n",
        "X_test = np.array(X_test)\n",
        "X_test = np.reshape(X_test, (X_test.shape[0], X_test.shape[1], 1))\n",
        "predicted_stock_price = regressor.predict(X_test)\n",
        "predicted_stock_price = sc.inverse_transform(predicted_stock_price)\n",
        "predicted_stock_price"
      ],
      "execution_count": 0,
      "outputs": []
    },
    {
      "cell_type": "markdown",
      "metadata": {
        "id": "oDBjGPjjbKPl",
        "colab_type": "text"
      },
      "source": [
        "**Visualizing the results**"
      ]
    },
    {
      "cell_type": "code",
      "metadata": {
        "id": "VVCJ7pW2bOmh",
        "colab_type": "code",
        "colab": {}
      },
      "source": [
        "# Visualising the results\n",
        "plt.plot(real_stock_price, color = 'red', label = 'Real Google Stock Price')\n",
        "plt.plot(predicted_stock_price, color = 'blue', label = 'Predicted Google Stock Price')\n",
        "plt.title('Google Stock Price Prediction')\n",
        "plt.xlabel('Time')\n",
        "plt.ylabel('Google Stock Price')\n",
        "plt.legend()\n",
        "plt.show()"
      ],
      "execution_count": 0,
      "outputs": []
    }
  ]
}