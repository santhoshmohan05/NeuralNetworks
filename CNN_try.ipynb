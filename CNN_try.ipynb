{
  "nbformat": 4,
  "nbformat_minor": 0,
  "metadata": {
    "kernelspec": {
      "display_name": "Python 3",
      "language": "python",
      "name": "python3"
    },
    "language_info": {
      "codemirror_mode": {
        "name": "ipython",
        "version": 3
      },
      "file_extension": ".py",
      "mimetype": "text/x-python",
      "name": "python",
      "nbconvert_exporter": "python",
      "pygments_lexer": "ipython3",
      "version": "3.7.3"
    },
    "pycharm": {
      "stem_cell": {
        "cell_type": "raw",
        "metadata": {
          "collapsed": false
        },
        "source": []
      }
    },
    "varInspector": {
      "cols": {
        "lenName": 16,
        "lenType": 16,
        "lenVar": 40
      },
      "kernels_config": {
        "python": {
          "delete_cmd_postfix": "",
          "delete_cmd_prefix": "del ",
          "library": "var_list.py",
          "varRefreshCmd": "print(var_dic_list())"
        },
        "r": {
          "delete_cmd_postfix": ") ",
          "delete_cmd_prefix": "rm(",
          "library": "var_list.r",
          "varRefreshCmd": "cat(var_dic_list()) "
        }
      },
      "types_to_exclude": [
        "module",
        "function",
        "builtin_function_or_method",
        "instance",
        "_Feature"
      ],
      "window_display": false
    },
    "colab": {
      "name": "CNN_try.ipynb",
      "version": "0.3.2",
      "provenance": [],
      "include_colab_link": true
    }
  },
  "cells": [
    {
      "cell_type": "markdown",
      "metadata": {
        "id": "view-in-github",
        "colab_type": "text"
      },
      "source": [
        "<a href=\"https://colab.research.google.com/github/santhoshmohan05/NeuralNetworks/blob/master/CNN_try.ipynb\" target=\"_parent\"><img src=\"https://colab.research.google.com/assets/colab-badge.svg\" alt=\"Open In Colab\"/></a>"
      ]
    },
    {
      "cell_type": "markdown",
      "metadata": {
        "collapsed": true,
        "pycharm": {
          "is_executing": false
        },
        "id": "xdmq_cYIQQqa",
        "colab_type": "text"
      },
      "source": [
        "<h2>CNN</h2>"
      ]
    },
    {
      "cell_type": "markdown",
      "metadata": {
        "pycharm": {
          "name": "#%%\n"
        },
        "id": "2BziClOkQQqc",
        "colab_type": "text"
      },
      "source": [
        "<h4>Building CNN</h4>\n"
      ]
    },
    {
      "cell_type": "code",
      "metadata": {
        "id": "eTOXDQVUQQqd",
        "colab_type": "code",
        "colab": {
          "base_uri": "https://localhost:8080/",
          "height": 34
        },
        "outputId": "dc199348-ec2e-4daf-d87b-d24e99e0df3a"
      },
      "source": [
        "from keras.models import Sequential\n",
        "from keras.layers import Convolution2D\n",
        "from keras.layers import Dense\n",
        "from keras.layers import MaxPooling2D\n",
        "from keras.layers import Flatten\n",
        "from keras.preprocessing.image import ImageDataGenerator"
      ],
      "execution_count": 5,
      "outputs": [
        {
          "output_type": "stream",
          "text": [
            "Using TensorFlow backend.\n"
          ],
          "name": "stderr"
        }
      ]
    },
    {
      "cell_type": "code",
      "metadata": {
        "id": "SBzU8F3pQQqi",
        "colab_type": "code",
        "colab": {}
      },
      "source": [
        "def get_cnn_classifier():\n",
        "    cnn_classifier = Sequential()\n",
        "    ## convolution layer\n",
        "    cnn_classifier.add(Convolution2D(filters=32,kernel_size=3,strides=3,activation='relu',input_shape=(64,64,3)))\n",
        "    ## max-pooling\n",
        "    cnn_classifier.add(MaxPooling2D(pool_size=(2,2)))\n",
        "    ## second convolution layer\n",
        "    cnn_classifier.add(Convolution2D(filters=32,kernel_size=3,strides=3,activation='relu'))\n",
        "    ## second max-pooling\n",
        "    cnn_classifier.add(MaxPooling2D(pool_size=(2,2)))\n",
        "    ## flatten the 2D max pooling\n",
        "    cnn_classifier.add(Flatten())\n",
        "    ## fully connected layer\n",
        "    cnn_classifier.add(Dense(units=128,activation='relu'))\n",
        "    ## output layer\n",
        "    cnn_classifier.add(Dense(units=1,activation='sigmoid'))\n",
        "    return cnn_classifier"
      ],
      "execution_count": 0,
      "outputs": []
    },
    {
      "cell_type": "code",
      "metadata": {
        "id": "ZKuLVlK_QQql",
        "colab_type": "code",
        "colab": {
          "base_uri": "https://localhost:8080/",
          "height": 306
        },
        "outputId": "0b670d25-aef3-42a7-9d12-6ed522ce219f"
      },
      "source": [
        "classifier = get_cnn_classifier()\n",
        "classifier.compile(optimizer='adam',loss='binary_crossentropy',metrics=['accuracy'])\n"
      ],
      "execution_count": 7,
      "outputs":[]
    },
    {
      "cell_type": "markdown",
      "metadata": {
        "id": "OFpQ36eIQQqo",
        "colab_type": "text"
      },
      "source": [
        "<h4> Read and Train Data </h4>"
      ]
    },
    {
      "cell_type": "markdown",
      "metadata": {
        "id": "bRoV7nV6QQqp",
        "colab_type": "text"
      },
      "source": [
        "Image Augmentation"
      ]
    },
    {
      "cell_type": "code",
      "metadata": {
        "id": "Ta0zP8NKQy5E",
        "colab_type": "code",
        "colab": {
          "base_uri": "https://localhost:8080/",
          "height": 121
        },
        "outputId": "57e75ec6-2255-43fc-dbe3-e4a3428fbaea"
      },
      "source": [
        "from google.colab import drive\n",
        "drive.mount(\"/content/gdrive/\")\n"
      ],
      "execution_count": 1,
      "outputs":[]
    },
    {
      "cell_type": "code",
      "metadata": {
        "id": "h_l9l0HRQQqq",
        "colab_type": "code",
        "colab": {
          "base_uri": "https://localhost:8080/",
          "height": 138
        },
        "outputId": "d09dc9f8-0467-4d44-9a04-a7231a268eae"
      },
      "source": [
        "## image augmentation to increase the dataset by transformation on current data\n",
        "train_datagen = ImageDataGenerator(\n",
        "        rescale=1./255,\n",
        "        shear_range=0.2,\n",
        "        zoom_range=0.2,\n",
        "        horizontal_flip=True)\n",
        "\n",
        "test_datagen = ImageDataGenerator(rescale=1./255)\n",
        "\n",
        "train_data = train_datagen.flow_from_directory(\n",
        "        'dataset/training_set',\n",
        "        target_size=(64, 64),\n",
        "        batch_size=32,\n",
        "        class_mode='binary')\n",
        "\n",
        "test_data = test_datagen.flow_from_directory(\n",
        "        'dataset/test_set',\n",
        "        target_size=(64, 64),\n",
        "        batch_size=32,\n",
        "        class_mode='binary')\n",
        "\n",
        "## apply the generator and fit to model\n",
        "classifier.fit_generator(\n",
        "        train_data,\n",
        "        steps_per_epoch=8000,\n",
        "        epochs=25,\n",
        "        validation_data=test_data,\n",
        "        validation_steps=2000)"
      ],
      "execution_count": 0,
      "outputs":[]
    },
    {
      "cell_type": "code",
      "metadata": {
        "id": "tYiBFJcjQQqt",
        "colab_type": "code",
        "colab": {}
      },
      "source": [
        ""
      ],
      "execution_count": 0,
      "outputs": []
    }
  ]
}
